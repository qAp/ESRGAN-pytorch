{
 "cells": [
  {
   "cell_type": "markdown",
   "metadata": {},
   "source": [
    "## Change state dicts' keys for `DistributedDataParallel`"
   ]
  },
  {
   "cell_type": "markdown",
   "metadata": {},
   "source": [
    "A model that is wrapped with `DistributedDataParallel` expects its state dict's keys to start with `'module.'`, followed by the usual keys when `DistributedDataParellel` is not used.  In order to load the pretrained models that come with the original ESRGAN-pytorch, which are not wrapped with `DistributedDataParallel`, their state dicts' keys are prepended with `'module.'` beforehand so that they can be loaded into models wrapped with `DistributedDataParallel`.  This is done once.  The resulting state dicts are saved to disk for future use."
   ]
  },
  {
   "cell_type": "code",
   "execution_count": 1,
   "metadata": {},
   "outputs": [],
   "source": [
    "import torch"
   ]
  },
  {
   "cell_type": "code",
   "execution_count": 3,
   "metadata": {},
   "outputs": [],
   "source": [
    "device = torch.device('cuda:0' if torch.cuda.is_available() else 'cpu')"
   ]
  },
  {
   "cell_type": "code",
   "execution_count": 9,
   "metadata": {},
   "outputs": [],
   "source": [
    "models = ('psnr', 'gan')\n",
    "\n",
    "for m in models:\n",
    "    g_sdict = torch.load(f'../parameters/{m}.pth', map_location=device)\n",
    "    g_sdict = {f'module.{k}':v for k, v in g_sdict.items()}\n",
    "    save_dict = {\n",
    "        'epoch':None, \n",
    "        'unit_scheduler_step':None, \n",
    "        'history':None,\n",
    "        'g_state_dict':g_sdict, \n",
    "        'd_state_dict':None, \n",
    "        'opt_g_state_dict':None, \n",
    "        'opt_d_state_dict':None, \n",
    "        'amp':None, \n",
    "        'args':None}\n",
    "    torch.save(save_dict, f'../parameters/{m}_based.pth')"
   ]
  },
  {
   "cell_type": "code",
   "execution_count": 10,
   "metadata": {},
   "outputs": [
    {
     "name": "stdout",
     "output_type": "stream",
     "text": [
      " 64M\t../parameters/gan.pth\r\n",
      " 64M\t../parameters/gan_based.pth\r\n",
      " 64M\t../parameters/psnr.pth\r\n",
      " 64M\t../parameters/psnr_based.pth\r\n"
     ]
    }
   ],
   "source": [
    "! du -hs ../parameters/*"
   ]
  },
  {
   "cell_type": "code",
   "execution_count": null,
   "metadata": {},
   "outputs": [],
   "source": []
  }
 ],
 "metadata": {
  "kernelspec": {
   "display_name": "Python 3",
   "language": "python",
   "name": "python3"
  },
  "language_info": {
   "codemirror_mode": {
    "name": "ipython",
    "version": 3
   },
   "file_extension": ".py",
   "mimetype": "text/x-python",
   "name": "python",
   "nbconvert_exporter": "python",
   "pygments_lexer": "ipython3",
   "version": "3.7.6"
  },
  "toc": {
   "base_numbering": 1,
   "nav_menu": {},
   "number_sections": true,
   "sideBar": true,
   "skip_h1_title": false,
   "title_cell": "Table of Contents",
   "title_sidebar": "Contents",
   "toc_cell": false,
   "toc_position": {},
   "toc_section_display": true,
   "toc_window_display": false
  }
 },
 "nbformat": 4,
 "nbformat_minor": 4
}
